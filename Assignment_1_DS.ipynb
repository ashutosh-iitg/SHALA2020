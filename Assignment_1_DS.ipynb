{
  "nbformat": 4,
  "nbformat_minor": 0,
  "metadata": {
    "colab": {
      "name": "Assignment -1 - DS.ipynb",
      "provenance": [],
      "collapsed_sections": [],
      "include_colab_link": true
    },
    "kernelspec": {
      "name": "python3",
      "display_name": "Python 3"
    }
  },
  "cells": [
    {
      "cell_type": "markdown",
      "metadata": {
        "id": "view-in-github",
        "colab_type": "text"
      },
      "source": [
        "<a href=\"https://colab.research.google.com/github/ashutosh-iitg/SHALA2020/blob/master/Assignment_1_DS.ipynb\" target=\"_parent\"><img src=\"https://colab.research.google.com/assets/colab-badge.svg\" alt=\"Open In Colab\"/></a>"
      ]
    },
    {
      "cell_type": "markdown",
      "metadata": {
        "id": "hmr2U-GChnlR",
        "colab_type": "text"
      },
      "source": [
        "\n",
        "# **Assignment - 1 : Getting Started**\n",
        "\n",
        "---\n",
        "\n",
        "This assignment will get you familiarized with python libraries required for ***data science*** and ***machine learning***. You will have to complete the code snippets and run them. "
      ]
    },
    {
      "cell_type": "markdown",
      "metadata": {
        "id": "211pD45xEO0u",
        "colab_type": "text"
      },
      "source": [
        "## **Note :**   Use only the methods and attributes of the ```numpy``` library. **Do not** hard-code them. Avoid loops as much as possible."
      ]
    },
    {
      "cell_type": "markdown",
      "metadata": {
        "id": "O7v9C4mun3SQ",
        "colab_type": "text"
      },
      "source": [
        "---\n",
        "## Part - 1\n",
        " In this part, you will work with the library ```numpy```. \n",
        "\n",
        "\n"
      ]
    },
    {
      "cell_type": "markdown",
      "metadata": {
        "id": "846yDaXQwiMD",
        "colab_type": "text"
      },
      "source": [
        "Import ```numpy``` with an alias name ```np```. Initialize two arrays $a$, $b$ of size $3 \\times 5$ with random values and print them. "
      ]
    },
    {
      "cell_type": "code",
      "metadata": {
        "id": "_MyeCO3_o3oq",
        "colab_type": "code",
        "outputId": "1edf0a71-bd43-4f81-e053-6457678c4fcd",
        "colab": {
          "base_uri": "https://localhost:8080/",
          "height": 119
        }
      },
      "source": [
        "import numpy as np\n",
        "\n",
        "a = np.random.random((3,5))\n",
        "b = np.random.random((3,5))\n",
        "\n",
        "print(\"a = \",a)\n",
        "print(\"b = \",b)"
      ],
      "execution_count": 27,
      "outputs": [
        {
          "output_type": "stream",
          "text": [
            "a =  [[0.1920723  0.72566962 0.7849367  0.97209836 0.85097142]\n",
            " [0.54359433 0.08979087 0.48887324 0.92793635 0.7876182 ]\n",
            " [0.48509423 0.45527936 0.21798577 0.17721338 0.07362367]]\n",
            "b =  [[0.89239319 0.64017662 0.14333232 0.41412692 0.04910892]\n",
            " [0.20937335 0.73070812 0.65112277 0.4789783  0.27478051]\n",
            " [0.65222313 0.95644951 0.43552056 0.07013251 0.05773149]]\n"
          ],
          "name": "stdout"
        }
      ]
    },
    {
      "cell_type": "markdown",
      "metadata": {
        "id": "p7jtpYT4wiO6",
        "colab_type": "text"
      },
      "source": [
        "Initialize and print two arrays $c$ and $d$ having the following properties:\n",
        "*   $c$ is a row vector with all non-negative integer values less than 100\n",
        "* $d$ is a square matrix of size 3 having all entries as 0.0"
      ]
    },
    {
      "cell_type": "code",
      "metadata": {
        "id": "a2lJdRf8x9f2",
        "colab_type": "code",
        "outputId": "d4ac684c-bbaa-4218-fbe9-65436622846b",
        "colab": {
          "base_uri": "https://localhost:8080/",
          "height": 153
        }
      },
      "source": [
        "c = np.arange(0,100,1)\n",
        "d = np.zeros((3,3))\n",
        "\n",
        "print('c = ',c,'\\nd = ',d)"
      ],
      "execution_count": 28,
      "outputs": [
        {
          "output_type": "stream",
          "text": [
            "c =  [ 0  1  2  3  4  5  6  7  8  9 10 11 12 13 14 15 16 17 18 19 20 21 22 23\n",
            " 24 25 26 27 28 29 30 31 32 33 34 35 36 37 38 39 40 41 42 43 44 45 46 47\n",
            " 48 49 50 51 52 53 54 55 56 57 58 59 60 61 62 63 64 65 66 67 68 69 70 71\n",
            " 72 73 74 75 76 77 78 79 80 81 82 83 84 85 86 87 88 89 90 91 92 93 94 95\n",
            " 96 97 98 99] \n",
            "d =  [[0. 0. 0.]\n",
            " [0. 0. 0.]\n",
            " [0. 0. 0.]]\n"
          ],
          "name": "stdout"
        }
      ]
    },
    {
      "cell_type": "markdown",
      "metadata": {
        "id": "qqgtSsa88Zmh",
        "colab_type": "text"
      },
      "source": [
        "We have $e$ as following : ```e = [[1,2,3],[4,5,6],[7,8,9]]```. Change $e$ as a numpy array and print it."
      ]
    },
    {
      "cell_type": "code",
      "metadata": {
        "id": "Krhm4bVE7RET",
        "colab_type": "code",
        "outputId": "34fd10fd-83ed-4fc0-97fb-a712f1b8d43a",
        "colab": {
          "base_uri": "https://localhost:8080/",
          "height": 68
        }
      },
      "source": [
        "e = [[1,2,3],[4,5,6],[7,8,9]]\n",
        "e = np.array(e)\n",
        "print(e, type(e))"
      ],
      "execution_count": 29,
      "outputs": [
        {
          "output_type": "stream",
          "text": [
            "[[1 2 3]\n",
            " [4 5 6]\n",
            " [7 8 9]] <class 'numpy.ndarray'>\n"
          ],
          "name": "stdout"
        }
      ]
    },
    {
      "cell_type": "markdown",
      "metadata": {
        "id": "1qTikI0foam9",
        "colab_type": "text"
      },
      "source": [
        "$f$ and $g$ are two square matrices of size 5 such that all the entries of $f$ are 1 and $g$ is an identity matrix. Initialize them and print them"
      ]
    },
    {
      "cell_type": "code",
      "metadata": {
        "id": "DvaLckI49aBV",
        "colab_type": "code",
        "outputId": "8e119a35-6297-4ae5-e5f8-aa6782a0f578",
        "colab": {
          "base_uri": "https://localhost:8080/",
          "height": 187
        }
      },
      "source": [
        "f = np.ones((5,5))\n",
        "g = np.eye(5)\n",
        "\n",
        "print(f)\n",
        "print(g)"
      ],
      "execution_count": 30,
      "outputs": [
        {
          "output_type": "stream",
          "text": [
            "[[1. 1. 1. 1. 1.]\n",
            " [1. 1. 1. 1. 1.]\n",
            " [1. 1. 1. 1. 1.]\n",
            " [1. 1. 1. 1. 1.]\n",
            " [1. 1. 1. 1. 1.]]\n",
            "[[1. 0. 0. 0. 0.]\n",
            " [0. 1. 0. 0. 0.]\n",
            " [0. 0. 1. 0. 0.]\n",
            " [0. 0. 0. 1. 0.]\n",
            " [0. 0. 0. 0. 1.]]\n"
          ],
          "name": "stdout"
        }
      ]
    },
    {
      "cell_type": "markdown",
      "metadata": {
        "id": "gcBZAZibAKcg",
        "colab_type": "text"
      },
      "source": [
        "Reshape $c$ into a $10 \\times 10$ matrix and name it $h$. Now flatten $h$, call it $c^\\prime$ and print **YES** when the shapes of $c$ and $c^\\prime$ are same. Otherwise print **NO**."
      ]
    },
    {
      "cell_type": "code",
      "metadata": {
        "id": "I71vtO9bA9Pi",
        "colab_type": "code",
        "outputId": "61819e2c-7d98-4813-ebd3-5c66fa85caa8",
        "colab": {
          "base_uri": "https://localhost:8080/",
          "height": 221
        }
      },
      "source": [
        "h = c.reshape(10,10)\n",
        "print(h)\n",
        "c_prime = h.flatten()\n",
        "print(c_prime.shape)\n",
        "\n",
        "if(c.shape == c_prime.shape):\n",
        "   print(\"YES\")\n",
        "else:\n",
        "   print(\"NO\")"
      ],
      "execution_count": 31,
      "outputs": [
        {
          "output_type": "stream",
          "text": [
            "[[ 0  1  2  3  4  5  6  7  8  9]\n",
            " [10 11 12 13 14 15 16 17 18 19]\n",
            " [20 21 22 23 24 25 26 27 28 29]\n",
            " [30 31 32 33 34 35 36 37 38 39]\n",
            " [40 41 42 43 44 45 46 47 48 49]\n",
            " [50 51 52 53 54 55 56 57 58 59]\n",
            " [60 61 62 63 64 65 66 67 68 69]\n",
            " [70 71 72 73 74 75 76 77 78 79]\n",
            " [80 81 82 83 84 85 86 87 88 89]\n",
            " [90 91 92 93 94 95 96 97 98 99]]\n",
            "(100,)\n",
            "YES\n"
          ],
          "name": "stdout"
        }
      ]
    },
    {
      "cell_type": "markdown",
      "metadata": {
        "id": "8FrecDPiA-Bv",
        "colab_type": "text"
      },
      "source": [
        "Let $A$ denote a randomly initialized three dimensional matrix of shape (2,10,5). Transpose $A$, call it $A^\\prime$, such that its shape is (5,2,10) and print it."
      ]
    },
    {
      "cell_type": "code",
      "metadata": {
        "id": "VbOKqSm6Bkaq",
        "colab_type": "code",
        "outputId": "c44ae653-d361-4bc8-fc00-51d8b072fd51",
        "colab": {
          "base_uri": "https://localhost:8080/",
          "height": 629
        }
      },
      "source": [
        "A = np.random.rand(2,10,5)\n",
        "print(A.shape)\n",
        "\n",
        "A = A.transpose(2,0,1)\n",
        "print(A.shape)\n",
        "print(A)"
      ],
      "execution_count": 32,
      "outputs": [
        {
          "output_type": "stream",
          "text": [
            "(2, 10, 5)\n",
            "(5, 2, 10)\n",
            "[[[8.28710188e-02 2.60345073e-01 8.64119669e-01 8.41419619e-01\n",
            "   3.13819115e-01 7.98964319e-01 8.27862801e-01 8.33687884e-01\n",
            "   8.48303897e-01 9.55668150e-02]\n",
            "  [9.65293351e-01 8.40561085e-01 5.16784366e-01 7.40377963e-02\n",
            "   6.85499183e-02 4.36357084e-01 6.18736583e-01 2.23322973e-01\n",
            "   4.61548152e-01 6.94764977e-01]]\n",
            "\n",
            " [[9.59707187e-01 6.91977512e-01 2.90872446e-01 7.27152079e-01\n",
            "   4.19582757e-01 9.71624297e-01 9.65228149e-01 8.72179508e-01\n",
            "   3.14652999e-01 8.36912139e-01]\n",
            "  [7.51027307e-01 4.54973059e-02 1.56262424e-01 4.78915452e-01\n",
            "   7.64962823e-02 4.97782831e-01 1.57244658e-01 2.42978180e-01\n",
            "   1.62520685e-01 3.90958016e-01]]\n",
            "\n",
            " [[5.40760836e-01 8.95570328e-01 7.41082406e-01 3.59107525e-01\n",
            "   8.77212039e-01 3.67702983e-01 6.98809998e-01 9.21315918e-02\n",
            "   2.79294597e-01 5.34734870e-01]\n",
            "  [3.43093864e-01 5.56415411e-02 9.77952410e-01 6.22794804e-02\n",
            "   5.38792658e-01 5.83311915e-01 2.75508475e-01 4.79507305e-01\n",
            "   6.79501804e-01 4.62962030e-02]]\n",
            "\n",
            " [[8.37462433e-01 3.40688484e-01 1.58033655e-01 7.26689751e-01\n",
            "   1.53740209e-01 2.04939769e-01 4.82497042e-01 2.15949471e-01\n",
            "   4.30815022e-01 7.74967815e-01]\n",
            "  [9.48527647e-01 7.42737274e-01 5.02751048e-01 8.84241431e-01\n",
            "   7.55664045e-02 6.20512681e-01 7.98718271e-01 7.45522042e-04\n",
            "   7.95204587e-01 4.39421533e-01]]\n",
            "\n",
            " [[1.70033544e-01 6.46731980e-02 6.94963435e-01 1.39467124e-01\n",
            "   8.80124790e-01 2.40570320e-01 2.87049765e-01 8.31761090e-01\n",
            "   5.39446500e-01 2.30836266e-01]\n",
            "  [7.00511779e-01 3.04686433e-01 8.29001078e-01 4.45810179e-01\n",
            "   1.83772318e-01 3.72811500e-01 1.53089301e-01 3.03113605e-02\n",
            "   5.78163359e-01 3.71980312e-01]]]\n"
          ],
          "name": "stdout"
        }
      ]
    },
    {
      "cell_type": "markdown",
      "metadata": {
        "id": "xR2zd-nkCani",
        "colab_type": "text"
      },
      "source": [
        "You have a matrix $X$ of size (10,5) filled with random values. Print the following :\n",
        "* Minimum value and index where it occured, for each column\n",
        "* Maximum value and the index where it occured, for each column\n",
        "* Minimum value and index where it occured, for each row\n",
        "* Maximum value and index where it occured, for each row\n",
        "* Minimum value and index where it occured, for the entire matrix\n",
        "* Maximum value and index where it occured, for the entire matrix"
      ]
    },
    {
      "cell_type": "code",
      "metadata": {
        "id": "FR2Wd4fWD_Og",
        "colab_type": "code",
        "outputId": "15cd78c2-22ab-4e5e-cf59-7b04128ad6be",
        "colab": {
          "base_uri": "https://localhost:8080/",
          "height": 425
        }
      },
      "source": [
        "np.random.seed(0)\n",
        "X = np.random.rand(10,5)\n",
        "\n",
        "col_min = np.min(X, 0)\n",
        "col_min_ind = np.argmin(X,0)\n",
        "\n",
        "col_max = np.max(X, 0)\n",
        "col_max_ind = np.argmax(X,0)\n",
        "\n",
        "row_min = np.min(X,1)\n",
        "row_min_ind = np.argmin(X,1)\n",
        "\n",
        "row_max = np.max(X,1)\n",
        "row_max_ind = np.argmax(X,1)\n",
        "\n",
        "mat_min = np.min(X)\n",
        "mat_min_ind = np.argmin(X)\n",
        "\n",
        "mat_max = np.max(X)\n",
        "mat_max_ind = np.argmax(X)\n",
        "\n",
        "print(X)\n",
        "print(\"Minimum value for each column: \", col_min)\n",
        "print(\"Minimum value index for each column: \", col_min_ind)\n",
        "print(\"Maximum value for each column: \", col_max)\n",
        "print(\"Maximum value index for each column: \", col_max_ind)\n",
        "print(\"Minimum value for each row: \", row_min)\n",
        "print(\"Minimum value index for each row: \", row_min_ind)\n",
        "print(\"Maximum value for each row: \", row_max)\n",
        "print(\"Maximum value index for each row: \", row_max_ind)\n",
        "print(\"Minimum value for matrix: \", mat_min)\n",
        "print(\"Minimum value index for matrix: \", mat_min_ind)\n",
        "print(\"Maximum value for matrix: \", mat_max)\n",
        "print(\"Maximum value index for matrix: \", mat_max_ind)"
      ],
      "execution_count": 33,
      "outputs": [
        {
          "output_type": "stream",
          "text": [
            "[[0.5488135  0.71518937 0.60276338 0.54488318 0.4236548 ]\n",
            " [0.64589411 0.43758721 0.891773   0.96366276 0.38344152]\n",
            " [0.79172504 0.52889492 0.56804456 0.92559664 0.07103606]\n",
            " [0.0871293  0.0202184  0.83261985 0.77815675 0.87001215]\n",
            " [0.97861834 0.79915856 0.46147936 0.78052918 0.11827443]\n",
            " [0.63992102 0.14335329 0.94466892 0.52184832 0.41466194]\n",
            " [0.26455561 0.77423369 0.45615033 0.56843395 0.0187898 ]\n",
            " [0.6176355  0.61209572 0.616934   0.94374808 0.6818203 ]\n",
            " [0.3595079  0.43703195 0.6976312  0.06022547 0.66676672]\n",
            " [0.67063787 0.21038256 0.1289263  0.31542835 0.36371077]]\n",
            "Minimum value for each column:  [0.0871293  0.0202184  0.1289263  0.06022547 0.0187898 ]\n",
            "Minimum value index for each column:  [3 3 9 8 6]\n",
            "Maximum value for each column:  [0.97861834 0.79915856 0.94466892 0.96366276 0.87001215]\n",
            "Maximum value index for each column:  [4 4 5 1 3]\n",
            "Minimum value for each row:  [0.4236548  0.38344152 0.07103606 0.0202184  0.11827443 0.14335329\n",
            " 0.0187898  0.61209572 0.06022547 0.1289263 ]\n",
            "Minimum value index for each row:  [4 4 4 1 4 1 4 1 3 2]\n",
            "Maximum value for each row:  [0.71518937 0.96366276 0.92559664 0.87001215 0.97861834 0.94466892\n",
            " 0.77423369 0.94374808 0.6976312  0.67063787]\n",
            "Maximum value index for each row:  [1 3 3 4 0 2 1 3 2 0]\n",
            "Minimum value for matrix:  0.018789800436355142\n",
            "Minimum value index for matrix:  34\n",
            "Maximum value for matrix:  0.978618342232764\n",
            "Maximum value index for matrix:  20\n"
          ],
          "name": "stdout"
        }
      ]
    },
    {
      "cell_type": "markdown",
      "metadata": {
        "id": "YpjW2ypkEGtS",
        "colab_type": "text"
      },
      "source": [
        "Find and print the following for the matrix X: \n",
        "* Mean of each row and column\n",
        "* Standard deviation of each row and column\n",
        "* Mean of the entire matrix\n",
        "* Standard deviation of entire matrix"
      ]
    },
    {
      "cell_type": "code",
      "metadata": {
        "id": "gMdm2pw0GWjf",
        "colab_type": "code",
        "outputId": "2043280d-862f-4708-8034-d584ad467c3d",
        "colab": {
          "base_uri": "https://localhost:8080/",
          "height": 153
        }
      },
      "source": [
        "row_mean = np.mean(X, 1)\n",
        "col_mean = np.mean(X, 0)\n",
        "row_sd = np.std(X, 1)\n",
        "col_sd = np.std(X, 0)\n",
        "mat_mean =  np.mean(X)\n",
        "mat_sd = np.std(X)\n",
        "\n",
        "print(\"Mean of each row: \", row_mean)\n",
        "print(\"Standard deviation of each row: \", row_sd)\n",
        "print(\"Mean of each column: \", col_mean)\n",
        "print(\"Standard deviation of each col: \", col_sd)\n",
        "print(\"Mean of the matrix: \", mat_mean)\n",
        "print(\"Standard deviation of the matrix: \", mat_sd)"
      ],
      "execution_count": 34,
      "outputs": [
        {
          "output_type": "stream",
          "text": [
            "Mean of each row:  [0.56706085 0.66447172 0.57705944 0.51762729 0.62761197 0.5328907\n",
            " 0.41643268 0.69444672 0.44423265 0.33781717]\n",
            "Standard deviation of each row:  [0.09445299 0.23322986 0.29189733 0.38052993 0.30431633 0.26338419\n",
            " 0.25841437 0.12727959 0.23169975 0.18537332]\n",
            "Mean of each column:  [0.56044382 0.46781457 0.62009909 0.64025127 0.40121685]\n",
            "Standard deviation of each col:  [0.24687647 0.25752158 0.22948615 0.28054144 0.26584905]\n",
            "Mean of the matrix:  0.5379651182755409\n",
            "Standard deviation of the matrix:  0.27226582292177587\n"
          ],
          "name": "stdout"
        }
      ]
    },
    {
      "cell_type": "markdown",
      "metadata": {
        "id": "7dw7W8HOGXKA",
        "colab_type": "text"
      },
      "source": [
        "Let $Y$ denote a square matrix of size 10 with random values. Print the following:\n",
        "* Determinant\n",
        "* Rank of the matrix\n",
        "* Diagonal Elements\n",
        "* Trace\n",
        "* Eigen values\n",
        "* Matrices obtained after Singular Value Decomposition\n",
        "* Inverse if exists, otherwise Pseudo-Inverse\n",
        "* Multiplication $Y$ with $X$\n",
        "* Element-wise multiplication of $Y$ and its inverse(or pseudo-inverse)"
      ]
    },
    {
      "cell_type": "code",
      "metadata": {
        "id": "Tswbn9hgL7yi",
        "colab_type": "code",
        "outputId": "ba8638c8-4a17-4e3f-903c-c97af214d096",
        "colab": {
          "base_uri": "https://localhost:8080/",
          "height": 1000
        }
      },
      "source": [
        "np.random.seed(3)\n",
        "Y = np.random.rand(10,10)\n",
        "\n",
        "det_Y = np.linalg.det(Y)\n",
        "rank_Y = np.linalg.matrix_rank(Y)\n",
        "diag_Y = np.diag(Y)\n",
        "trace_Y = np.trace(Y)\n",
        "evalues_Y = np.linalg.eigvals(Y)\n",
        "u, s, vh = np.linalg.svd(Y)\n",
        "inv_Y = np.linalg.pinv(Y)\n",
        "mult_XY = np.matmul(Y,X)\n",
        "elem_mult_XY = np.dot(Y, inv_Y)\n",
        "\n",
        "print(\n",
        "    \"Determinant: \", det_Y,\n",
        "    \"\\n\\nRank of the matrix: \\n\",rank_Y,\n",
        "    \"\\n\\nDiagonal Elements: \\n\",diag_Y,\n",
        "    \"\\n\\nTrace: \\n\", trace_Y,\n",
        "    \"\\n\\nEigen values: \\n\",evalues_Y,\n",
        "    \"\\n\\nMatrices obtained after Singular Value Decomposition: \\n\",\"U:\\n\", u,\"S:\\n\", s,\"V:\\n\", vh,\n",
        "    \"\\n\\nInverse if exists, otherwise Pseudo-Inverse: \\n\", inv_Y,\n",
        "    \"\\n\\nMultiplication of  Y  with  X: \\n\", mult_XY,\n",
        "    \"\\n\\nElement-wise multiplication of  Y  and its inverse(or pseudo-inverse): \\n\", np.array_str(elem_mult_XY, precision = 3, suppress_small=True)\n",
        ")"
      ],
      "execution_count": 35,
      "outputs": [
        {
          "output_type": "stream",
          "text": [
            "Determinant:  -0.012807808169095483 \n",
            "\n",
            "Rank of the matrix: \n",
            " 10 \n",
            "\n",
            "Diagonal Elements: \n",
            " [0.5507979  0.45683322 0.44045372 0.84575087 0.4576864  0.36217621\n",
            " 0.06152893 0.19897603 0.92672568 0.19638058] \n",
            "\n",
            "Trace: \n",
            " 4.497309545724899 \n",
            "\n",
            "Eigen values: \n",
            " [ 4.797525  +0.j          0.72411408+0.52238181j  0.72411408-0.52238181j\n",
            " -0.48250062+0.55413671j -0.48250062-0.55413671j -0.6909002 +0.j\n",
            " -0.25905659+0.32357377j -0.25905659-0.32357377j  0.2127855 +0.08352477j\n",
            "  0.2127855 -0.08352477j] \n",
            "\n",
            "Matrices obtained after Singular Value Decomposition: \n",
            " U:\n",
            " [[-0.31776408 -0.02455508 -0.60644878 -0.17883359 -0.12672161  0.14873878\n",
            "  -0.17823942 -0.52859453 -0.02295855 -0.38570883]\n",
            " [-0.26118514 -0.10864541 -0.24911354  0.26547359  0.52168399 -0.25773901\n",
            "  -0.46995326  0.21752636 -0.39285046  0.16234491]\n",
            " [-0.31347907 -0.34483471 -0.25292297  0.1214296   0.1486964   0.33436315\n",
            "   0.54080229  0.48017168  0.05660692 -0.20966421]\n",
            " [-0.35815379  0.59490017  0.30255161  0.15850614 -0.11046295  0.3051409\n",
            "   0.07395537  0.03044889 -0.50561658 -0.18384856]\n",
            " [-0.28385845 -0.18085696 -0.1583078   0.10535533 -0.46807835 -0.08377643\n",
            "   0.24075452 -0.16170764 -0.24786952  0.69201648]\n",
            " [-0.28871348 -0.27577124  0.40271105  0.60433658  0.11931679 -0.04899205\n",
            "   0.02593316 -0.44875145  0.27874747 -0.12964796]\n",
            " [-0.27897316  0.00398904  0.20819753 -0.52536617  0.41116881 -0.41991923\n",
            "   0.42687225 -0.24145621 -0.12958507 -0.00984813]\n",
            " [-0.24788529  0.48136836 -0.15792433 -0.02303902  0.3246308   0.25755952\n",
            "  -0.01429533 -0.03088365  0.56052488  0.44079262]\n",
            " [-0.37505167 -0.36728578  0.39799373 -0.45186801 -0.10830044  0.34456765\n",
            "  -0.4447402   0.14147957  0.0716725   0.09192695]\n",
            " [-0.40049601  0.19846099 -0.02705464  0.02500837 -0.39745062 -0.57941613\n",
            "  -0.10288216  0.3673956   0.33321483 -0.22039139]] S:\n",
            " [4.89636645 1.42832104 1.17173389 0.94068764 0.76892251 0.62457278\n",
            " 0.52105948 0.28969576 0.24512275 0.09350223] V:\n",
            " [[-0.28816735 -0.35560525 -0.33294235 -0.33250662 -0.36658188 -0.3625847\n",
            "  -0.26573249 -0.23278667 -0.30457183 -0.29270444]\n",
            " [ 0.53693497  0.11306854  0.39562078  0.25099719 -0.07369559 -0.37753546\n",
            "  -0.08584363  0.00333609 -0.2399022  -0.51623983]\n",
            " [-0.084609   -0.22589744 -0.00306935  0.1954239  -0.327784   -0.49318928\n",
            "   0.42323124  0.18588504  0.58200169  0.02301787]\n",
            " [ 0.01388163 -0.2631197   0.42190391 -0.53612946  0.01058633 -0.04415909\n",
            "   0.29385139  0.49501812 -0.32731018  0.15669071]\n",
            " [-0.27340804  0.28220631  0.28945859 -0.1626885   0.14790418 -0.35915036\n",
            "  -0.64971879  0.23854611  0.29589227  0.1337842 ]\n",
            " [ 0.10830593  0.27974551 -0.20571161  0.10308827  0.10096026 -0.5325142\n",
            "   0.15994871 -0.16150892 -0.3941055   0.59692177]\n",
            " [ 0.44882085  0.34972045 -0.01773924 -0.50737391 -0.52251393  0.11970007\n",
            "  -0.02807841 -0.20137782  0.25705553  0.15409283]\n",
            " [-0.35599817 -0.05022624  0.63427946  0.20935183 -0.34847081  0.11510691\n",
            "   0.03182222 -0.47748403 -0.1161671   0.21777064]\n",
            " [ 0.18417681 -0.32168889  0.15954963 -0.32397524  0.5548368  -0.1807982\n",
            "   0.08626619 -0.55063636  0.28439362 -0.01119242]\n",
            " [-0.41560913  0.59522266  0.02089304 -0.23979844  0.13515565 -0.0893732\n",
            "   0.44674689 -0.10709455 -0.02239562 -0.42098815]] \n",
            "\n",
            "Inverse if exists, otherwise Pseudo-Inverse: \n",
            " [[ 2.31470983 -1.92264991  0.7642126   0.78096977 -2.74248585  1.20175092\n",
            "   0.38693174 -1.37664514 -0.96484143  0.83123246]\n",
            " [-2.24504111  1.25605742 -0.91466223 -0.39587642  4.71823627 -1.32162185\n",
            "   0.52594984  2.39368168  0.33051878 -2.33540101]\n",
            " [-1.41290916  0.66149939  0.94968095 -0.18869248 -0.50069581 -0.55664939\n",
            "  -0.55275157  0.57384943 -0.04209635  1.11025544]\n",
            " [ 0.88051129  0.37055438  0.15632501  1.25248223 -1.81219563 -0.7249179\n",
            "  -0.19613524 -1.81766381  0.56943994  0.52226388]\n",
            " [ 0.39743656 -0.28842728 -1.09880632 -1.57965965  0.36480771  0.90235521\n",
            "  -0.47743451  2.09911148  0.53638288 -0.04562024]\n",
            " [ 0.36068175  0.22958502  0.33426258  0.10367281 -0.06700744 -0.37158555\n",
            "   0.22972702 -1.26286862 -0.45133033  0.75430018]\n",
            " [-2.01045364  0.19347423 -1.01393804 -0.74303568  3.56449935 -0.31892146\n",
            "  -0.67116163  2.01265699  0.72873355 -0.69454601]\n",
            " [ 1.18043988  0.86047396 -0.88991494  1.30425635 -0.14247318  0.69661973\n",
            "   0.5413572  -1.69774697 -0.60797727 -1.00698216]\n",
            " [-0.1679456  -0.63197036 -0.0540802  -0.73587818 -0.46423184  0.67805628\n",
            "   0.88551393  0.37662528 -0.03416891  0.42341327]\n",
            " [ 1.3938872  -0.74982353  1.96636643  1.00676681 -3.21953806  0.44078124\n",
            "  -0.40298654 -1.90114336 -0.04414834  0.55576763]] \n",
            "\n",
            "Multiplication of  Y  with  X: \n",
            " [[2.95726101 2.04939653 3.09073485 3.22311637 1.78554985]\n",
            " [2.61266989 1.75663954 2.48635951 2.79783984 1.50654432]\n",
            " [2.98361778 2.02894044 2.82637865 2.88685728 1.69799548]\n",
            " [2.98565892 2.85485651 3.58995669 4.0073463  2.2697569 ]\n",
            " [2.49815821 1.97791033 2.77809758 2.71690515 1.59098767]\n",
            " [2.72146909 2.39905911 2.58780909 2.78212857 1.71792628]\n",
            " [2.22935358 1.74438251 2.94718357 2.48955906 2.05838199]\n",
            " [2.30476788 1.92350098 2.41698824 2.81379687 1.38016019]\n",
            " [2.91925254 2.36604123 3.53647969 3.30424184 2.52990887]\n",
            " [3.39559098 2.84629279 4.05845051 4.01068273 2.35816262]] \n",
            "\n",
            "Element-wise multiplication of  Y  and its inverse(or pseudo-inverse): \n",
            " [[ 1.  0.  0. -0.  0.  0.  0. -0.  0. -0.]\n",
            " [-0.  1.  0. -0.  0.  0. -0. -0.  0. -0.]\n",
            " [ 0.  0.  1. -0.  0.  0. -0. -0.  0. -0.]\n",
            " [-0.  0.  0.  1.  0.  0.  0. -0.  0. -0.]\n",
            " [ 0. -0.  0. -0.  1.  0. -0. -0.  0. -0.]\n",
            " [-0.  0.  0. -0.  0.  1.  0. -0.  0. -0.]\n",
            " [ 0. -0.  0. -0.  0.  0.  1. -0.  0. -0.]\n",
            " [-0.  0.  0. -0.  0.  0. -0.  1.  0. -0.]\n",
            " [-0.  0.  0. -0.  0.  0. -0. -0.  1. -0.]\n",
            " [ 0.  0.  0. -0.  0.  0.  0. -0.  0.  1.]]\n"
          ],
          "name": "stdout"
        }
      ]
    },
    {
      "cell_type": "markdown",
      "metadata": {
        "id": "Qne3RnfOL6-4",
        "colab_type": "text"
      },
      "source": [
        "## End of Part - 1\n",
        " --- --- ---"
      ]
    },
    {
      "cell_type": "markdown",
      "metadata": {
        "id": "LA-m4UYkMPTe",
        "colab_type": "text"
      },
      "source": [
        "## Part - 2\n",
        "---\n",
        "In this part, you will be working with the library ```pandas```. Import this library with an alias name ```pd```."
      ]
    },
    {
      "cell_type": "code",
      "metadata": {
        "id": "i8z7TpnZSIms",
        "colab_type": "code",
        "colab": {}
      },
      "source": [
        "# Initial imports\n",
        "import numpy as np\n",
        "import pandas as pd\n",
        "import matplotlib.pyplot as plt\n",
        "%matplotlib inline"
      ],
      "execution_count": 0,
      "outputs": []
    },
    {
      "cell_type": "markdown",
      "metadata": {
        "id": "2v-HkHnyuQ3X",
        "colab_type": "text"
      },
      "source": [
        "Download dataset from: http://biostat.mc.vanderbilt.edu/wiki/pub/Main/DataSets/titanic3.csv\n",
        "Read the data and display the first 5 rows"
      ]
    },
    {
      "cell_type": "code",
      "metadata": {
        "id": "LinX5ywNTUIm",
        "colab_type": "code",
        "outputId": "2b0ea9c6-d29e-4fc3-e8fe-994c26802f63",
        "colab": {
          "base_uri": "https://localhost:8080/",
          "height": 221
        }
      },
      "source": [
        "#Download dataset from: http://biostat.mc.vanderbilt.edu/wiki/pub/Main/DataSets/titanic3.csv\n",
        "\n",
        "file_url = \"http://biostat.mc.vanderbilt.edu/wiki/pub/Main/DataSets/titanic3.csv\"\n",
        "data = pd.read_csv(file_url)\n",
        "print(data.head(5))\n",
        "print(data.shape)\n",
        "print(data.columns)"
      ],
      "execution_count": 37,
      "outputs": [
        {
          "output_type": "stream",
          "text": [
            "   pclass  survived  ...   body                        home.dest\n",
            "0       1         1  ...    NaN                     St Louis, MO\n",
            "1       1         1  ...    NaN  Montreal, PQ / Chesterville, ON\n",
            "2       1         0  ...    NaN  Montreal, PQ / Chesterville, ON\n",
            "3       1         0  ...  135.0  Montreal, PQ / Chesterville, ON\n",
            "4       1         0  ...    NaN  Montreal, PQ / Chesterville, ON\n",
            "\n",
            "[5 rows x 14 columns]\n",
            "(1309, 14)\n",
            "Index(['pclass', 'survived', 'name', 'sex', 'age', 'sibsp', 'parch', 'ticket',\n",
            "       'fare', 'cabin', 'embarked', 'boat', 'body', 'home.dest'],\n",
            "      dtype='object')\n"
          ],
          "name": "stdout"
        }
      ]
    },
    {
      "cell_type": "markdown",
      "metadata": {
        "id": "vTk1-mF5WYFN",
        "colab_type": "text"
      },
      "source": [
        "### Preprocessing of the Dataset"
      ]
    },
    {
      "cell_type": "markdown",
      "metadata": {
        "id": "kx9UrI9WWt17",
        "colab_type": "text"
      },
      "source": [
        "\n",
        "\n",
        "---\n",
        "\n",
        "\n",
        "**1. Convert the categorical values of columns 'sex', 'embarked', 'pclass' into dummy values and add them into titanic_data_new DataFrame**\n",
        "\n",
        "\n",
        "\n",
        "\n",
        "---\n",
        "\n"
      ]
    },
    {
      "cell_type": "code",
      "metadata": {
        "id": "AwDh9njbZ0QU",
        "colab_type": "code",
        "outputId": "864ebed6-41ea-4b0a-8e04-a8994faee372",
        "colab": {
          "base_uri": "https://localhost:8080/",
          "height": 102
        }
      },
      "source": [
        "titanic_data_new = pd.get_dummies(data, columns=['sex','embarked'])\n",
        "print(titanic_data_new.columns)\n",
        "print(titanic_data_new.shape)"
      ],
      "execution_count": 38,
      "outputs": [
        {
          "output_type": "stream",
          "text": [
            "Index(['pclass', 'survived', 'name', 'age', 'sibsp', 'parch', 'ticket', 'fare',\n",
            "       'cabin', 'boat', 'body', 'home.dest', 'sex_female', 'sex_male',\n",
            "       'embarked_C', 'embarked_Q', 'embarked_S'],\n",
            "      dtype='object')\n",
            "(1309, 17)\n"
          ],
          "name": "stdout"
        }
      ]
    },
    {
      "cell_type": "markdown",
      "metadata": {
        "id": "Z9bxOfzDbY-n",
        "colab_type": "text"
      },
      "source": [
        "\n",
        "\n",
        "---\n",
        "\n",
        "\n",
        "**2. Fill the missing data in Age and Fare columns with the mean value of the respected column then add these columns to titanic_data_new**\n",
        "\n",
        "\n",
        "---\n",
        "\n"
      ]
    },
    {
      "cell_type": "code",
      "metadata": {
        "id": "DNx7Pr0ehhAs",
        "colab_type": "code",
        "colab": {}
      },
      "source": [
        "titanic_data_new['age'] = titanic_data_new['age'].fillna(titanic_data_new['age'].mean())\n",
        "titanic_data_new['fare'] = titanic_data_new['fare'].fillna(titanic_data_new['fare'].mean())\n",
        "\n",
        "#titanic_data_new['fare'].isnull().values.any()\n",
        "#titanic_data_new.shape"
      ],
      "execution_count": 0,
      "outputs": []
    },
    {
      "cell_type": "markdown",
      "metadata": {
        "id": "SlRzKfhxkd1M",
        "colab_type": "text"
      },
      "source": [
        "###Normalization\n",
        "\n",
        "\n",
        "---\n",
        "\n",
        "\n",
        "\n",
        "1. Normalize the columns which have numerical data\n",
        "\n",
        "\n",
        "\n",
        "---\n",
        "\n"
      ]
    },
    {
      "cell_type": "code",
      "metadata": {
        "id": "Y3hpu92TlM38",
        "colab_type": "code",
        "colab": {}
      },
      "source": [
        "cols = data.select_dtypes([np.number]).columns #find numeric columns\n",
        "titanic_data_new[cols] = ((titanic_data_new[cols]-titanic_data_new[cols].min())/(titanic_data_new[cols].max()-titanic_data_new[cols].min())) #normalization\n",
        "#titanic_data_new[cols]\n",
        "#data['body']"
      ],
      "execution_count": 0,
      "outputs": []
    },
    {
      "cell_type": "markdown",
      "metadata": {
        "id": "wB9-5x83mFAO",
        "colab_type": "text"
      },
      "source": [
        "\n",
        "\n",
        "---\n",
        "2. Drop the original age, fare columns\n",
        "3. Append the normalized columns to the titanic_data_new DataFrame.\n",
        "\n",
        "\n",
        "\n",
        "---\n",
        "\n"
      ]
    },
    {
      "cell_type": "code",
      "metadata": {
        "id": "Kb00kM0onQJy",
        "colab_type": "code",
        "colab": {}
      },
      "source": [
        "#done in previous section"
      ],
      "execution_count": 0,
      "outputs": []
    },
    {
      "cell_type": "markdown",
      "metadata": {
        "id": "uLxN3PozntKe",
        "colab_type": "text"
      },
      "source": [
        "###Plotting\n",
        "1. plot the age against the ID(continuous)\n",
        "2. plot the fare against the ID(scatter)"
      ]
    },
    {
      "cell_type": "code",
      "metadata": {
        "id": "LdSfNEKYn_RO",
        "colab_type": "code",
        "outputId": "ec7b4865-cacc-401b-b958-9016cfe9ce95",
        "colab": {
          "base_uri": "https://localhost:8080/",
          "height": 513
        }
      },
      "source": [
        "id = np.arange(1,1310,1)\n",
        "plt.plot(id, titanic_data_new['age'])\n",
        "plt.show()\n",
        "\n",
        "plt.scatter(id, titanic_data_new['fare'])\n",
        "plt.show()"
      ],
      "execution_count": 42,
      "outputs": [
        {
          "output_type": "display_data",
          "data": {
            "image/png": "[encoded data removed]",
            "text/plain": [
              "<Figure size 432x288 with 1 Axes>"
            ]
          },
          "metadata": {
            "tags": [],
            "needs_background": "light"
          }
        },
        {
          "output_type": "display_data",
          "data": {
            "image/png": "[encoded data removed]",
            "text/plain": [
              "<Figure size 432x288 with 1 Axes>"
            ]
          },
          "metadata": {
            "tags": [],
            "needs_background": "light"
          }
        }
      ]
    },
    {
      "cell_type": "markdown",
      "metadata": {
        "id": "LQr7y6eevTvy",
        "colab_type": "text"
      },
      "source": [
        "## End of Part - 2\n",
        "---"
      ]
    },
    {
      "cell_type": "markdown",
      "metadata": {
        "id": "TWhZcKvfvW2B",
        "colab_type": "text"
      },
      "source": [
        "## Part - 3\n",
        "---"
      ]
    },
    {
      "cell_type": "markdown",
      "metadata": {
        "id": "8bY4H9DszQ2S",
        "colab_type": "text"
      },
      "source": [
        "In this part, you will work with the library ```matplotlib```. Import the ```pyplot``` from ```matplotlib``` with an alias name ```plt```."
      ]
    },
    {
      "cell_type": "code",
      "metadata": {
        "id": "hPN6qctRzknT",
        "colab_type": "code",
        "colab": {}
      },
      "source": [
        "import matplotlib.pyplot as plt\n",
        "from math import pi"
      ],
      "execution_count": 0,
      "outputs": []
    },
    {
      "cell_type": "markdown",
      "metadata": {
        "id": "fQ6KX_Aezlub",
        "colab_type": "text"
      },
      "source": [
        "Plot the sine function with domain in $[-3\\pi,3\\pi]$. Label the axes appropriately. Add title $\\sin(x)$. Use latex formatting while adding the title. Set the plot size to (10,10)"
      ]
    },
    {
      "cell_type": "code",
      "metadata": {
        "id": "0tA3J5mA1cQ0",
        "colab_type": "code",
        "outputId": "9077841d-4d40-46cc-b881-dd456e98dd1a",
        "colab": {
          "base_uri": "https://localhost:8080/",
          "height": 621
        }
      },
      "source": [
        "x = np.arange(-3*pi, 3*pi, 0.1)\n",
        "y = np.sin(x)\n",
        "plt.figure(figsize=(10,10))\n",
        "plt.plot(x,y)\n",
        "plt.title('Sin(x)')\n",
        "plt.xlabel('x')\n",
        "plt.ylabel('Sin(x)')\n",
        "plt.show()"
      ],
      "execution_count": 44,
      "outputs": [
        {
          "output_type": "display_data",
          "data": {
            "image/png": "[encoded data removed]",
            "text/plain": [
              "<Figure size 720x720 with 1 Axes>"
            ]
          },
          "metadata": {
            "tags": [],
            "needs_background": "light"
          }
        }
      ]
    },
    {
      "cell_type": "markdown",
      "metadata": {
        "id": "6KV7RqMm1d8P",
        "colab_type": "text"
      },
      "source": [
        "Plot $\\sin(x)$ and its spectrum, $\\cos(x)$ and its spectrum in a single plot, in the domain $[-2\\pi,2\\pi]$. Label the plot appropriately."
      ]
    },
    {
      "cell_type": "code",
      "metadata": {
        "id": "-OJuY0HO12Oo",
        "colab_type": "code",
        "outputId": "ed0377c7-ef07-4659-eec7-89c08afac5c7",
        "colab": {
          "base_uri": "https://localhost:8080/",
          "height": 541
        }
      },
      "source": [
        "x = np.arange(-2*pi, 2*pi, 0.1)\n",
        "y = np.sin(x)\n",
        "z = np.cos(x)\n",
        "sp_y = np.abs(np.fft.fft(y))\n",
        "sp_z = np.abs(np.fft.fft(z))\n",
        "freq = np.fft.fftfreq(x.shape[-1])\n",
        "plt.plot(x,y,label='Sin(x)')\n",
        "plt.plot(x,z,label='Cos(x)')\n",
        "plt.xlabel('x')\n",
        "plt.legend()\n",
        "plt.show()\n",
        "\n",
        "plt.plot(freq,sp_y, '-',label='Spectrum of Sin(x)')\n",
        "plt.plot(freq,sp_z, '-.',label='Spectrum of Cos(x)')\n",
        "plt.xlabel('freq')\n",
        "plt.legend()\n",
        "plt.show()"
      ],
      "execution_count": 53,
      "outputs": [
        {
          "output_type": "display_data",
          "data": {
            "image/png": "[encoded data removed]",
            "text/plain": [
              "<Figure size 432x288 with 1 Axes>"
            ]
          },
          "metadata": {
            "tags": [],
            "needs_background": "light"
          }
        },
        {
          "output_type": "display_data",
          "data": {
            "image/png": "[encoded data removed]",
            "text/plain": [
              "<Figure size 432x288 with 1 Axes>"
            ]
          },
          "metadata": {
            "tags": [],
            "needs_background": "light"
          }
        }
      ]
    },
    {
      "cell_type": "markdown",
      "metadata": {
        "id": "1S6ZRm6B18ZF",
        "colab_type": "text"
      },
      "source": [
        "## End of Part - 3\n",
        "---"
      ]
    },
    {
      "cell_type": "markdown",
      "metadata": {
        "id": "MUucpzXBl096",
        "colab_type": "text"
      },
      "source": [
        "Create a Github repository with the name ***SHALA2020*** and save this assignment there."
      ]
    }
  ]
}